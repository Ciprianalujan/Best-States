{
 "cells": [
  {
   "cell_type": "markdown",
   "id": "a2c57173",
   "metadata": {},
   "source": [
    "# Best States to Live In"
   ]
  },
  {
   "cell_type": "markdown",
   "id": "808e8334",
   "metadata": {},
   "source": [
    "##### \tIn this project analysis, I have set out to find the best states within the United States to live in. These rankings derive from the best-states.csv dataset provided by the U.S News. In addition, I  used a dataset from the World Population Review containing the states with these lowest cost of living. This dataset is summarized of 6 different categories combined into a rank.  Eight different categories with 71 different metrics from the best-states dataset were used to find out which states are most accommodating for their residents. With over 65,000 people participating in a survey taken over 3 years (2017, 2019, 2021), weights were assigned based on what residents prioritized in these categories in their states. \n",
    "##### The data obtained from the U.S. News includes the raw values for each state determining the metric-level results. A z- score distribution was used to assess the averages among states for each metric. An index score was created for each metric and state. The state that performed the best was given 100 points while the ladder received none. States that lay between these two were indexed accordingly. After obtaining the index scores for each metric, the average of these scores were used to determine subcategory  scores and again, with those scores, used to determine category scores. \n",
    "##### \tWith these scores, I created a pie graph to display the overall weight each category help.  I then used a function that would add up the scores for each category in each state and then divided this score by 100 to get the overall score for each state. After getting the overall totals for these categories, I then took the mean of weighted cost rank and the weighted totals to get the final overall scores for each state and then sorted these totals. These states with the lowest value rank as the top states. States with a larger value rank further down. With this information I had three questions to ask. \n",
    "##### What are the top 5/ bottom 5 states to live in according to each factor?\n",
    "##### What are the top 5 states to live in overall?\n",
    "##### What are the top 5 states to live in according to the factors I find most important? (Health Care, Education, Crime, and Natural Environment)\n",
    "##### Note:\n",
    "#####    The lower the score of each category, the more this factor was favored between states.\n",
    "\n",
    "#####    The higher the score, the more residents were not pleased with this factor. This is how the graphs are displayed too."
   ]
  },
  {
   "cell_type": "code",
   "execution_count": null,
   "id": "20203dd3",
   "metadata": {},
   "outputs": [],
   "source": [
    "#dependencies and setup\n",
    "import pandas as pd\n",
    "import numpy as np\n",
    "import matplotlib.pyplot as plt\n",
    "%matplotlib inline\n"
   ]
  },
  {
   "cell_type": "code",
   "execution_count": null,
   "id": "286e6f93",
   "metadata": {},
   "outputs": [],
   "source": [
    "#csv files to read\n",
    "best_states = r\"C:\\Users\\marie\\Documents\\KU_Bootcamp\\Project1\\BestStates.csv\"\n",
    "cheapest_states = r\"C:\\Users\\marie\\Documents\\KU_Bootcamp\\Project1\\CheapestStates.csv\"\n",
    "\n",
    "#read the best states file\n",
    "best_states_df = pd.read_csv(best_states)\n",
    "best_states_df"
   ]
  },
  {
   "cell_type": "code",
   "execution_count": null,
   "id": "b3dccf76",
   "metadata": {},
   "outputs": [],
   "source": [
    "#we need to clean up the data and get rid of NaN\n",
    "best_states_df = best_states_df.dropna()\n",
    "best_states_df"
   ]
  },
  {
   "cell_type": "code",
   "execution_count": null,
   "id": "aea1ffd9",
   "metadata": {},
   "outputs": [],
   "source": [
    "#read the next dataset\n",
    "cheapest_states_df = pd.read_csv(cheapest_states)\n",
    "cheapest_states_df"
   ]
  },
  {
   "cell_type": "code",
   "execution_count": null,
   "id": "b54892c7",
   "metadata": {},
   "outputs": [],
   "source": [
    "#list column names\n",
    "cheapest_states_df.columns"
   ]
  },
  {
   "cell_type": "code",
   "execution_count": null,
   "id": "f71d995d",
   "metadata": {},
   "outputs": [],
   "source": [
    "#reorganize dataset\n",
    "cheapest_states_cleaned = cheapest_states_df.drop(['costIndex','utilitiesCost', 'miscCost'], axis=1)\n",
    "cheapest_states_renamed = cheapest_states_cleaned.rename(columns={\"costRank\":\"Cost Rank\", \"groceryCost\":\"Grocery Cost\", \n",
    "                                                                  \"housingCost\":\"Housing Cost\", \n",
    "                                                                  \"transportationCost\":\"Transportation Cost\"})\n",
    "cheapest_states_renamed"
   ]
  },
  {
   "cell_type": "code",
   "execution_count": null,
   "id": "12b0c59e",
   "metadata": {},
   "outputs": [],
   "source": [
    "#merge dataframes\n",
    "combined_states_df = pd.merge(best_states_df, cheapest_states_renamed, how='inner', on='State')\n",
    "combined_states_df"
   ]
  },
  {
   "cell_type": "code",
   "execution_count": null,
   "id": "3491914c",
   "metadata": {
    "scrolled": true
   },
   "outputs": [],
   "source": [
    "#we need to find the weighted scores of the best states categories\n",
    "#make a pie chart showing each categories weights\n",
    "labels = 'Health Care', 'Education', 'Economy', 'Infrastructure', 'Opportunity', 'Fiscal Stability', 'Crime & Corrections', 'Natural Environment'\n",
    "sizes = [16, 16, 13, 12, 12, 11, 10, 10]\n",
    "colors = [\"lightblue\", \"purple\", \"pink\", \"yellowgreen\",\"lightskyblue\", \"lightcoral\", \"orange\", \"green\"]\n",
    "fig1, ax1 = plt.subplots(figsize = (8,8))\n",
    "ax1.pie(sizes, labels=labels, autopct='%1.1f%%', startangle=140, colors=colors)\n",
    "plt.title(\"% of Weight Per Country\")\n",
    "plt.axis(\"equal\")\n",
    "\n",
    "plt.show()"
   ]
  },
  {
   "cell_type": "code",
   "execution_count": null,
   "id": "bf4bd8b9",
   "metadata": {},
   "outputs": [],
   "source": [
    "#create new columns for these totals\n",
    "combined_states_df['Health Care Total'] = combined_states_df['Health Care']*16\n",
    "combined_states_df['Education Total'] = combined_states_df['Education']*16\n",
    "combined_states_df['Economy Total'] = combined_states_df['Economy']*13\n",
    "combined_states_df['Infrastructure Total'] = combined_states_df['Infrastructure']*12\n",
    "combined_states_df['Opportunity Total'] = combined_states_df['Opportunity']*12\n",
    "combined_states_df['Fiscal Stability Total'] = combined_states_df['Fiscal Stability']*11\n",
    "combined_states_df['Crime Total'] = combined_states_df['Crime & Corrections']*10\n",
    "combined_states_df['Natural Environment Total'] = combined_states_df['Natural Environment']*10\n",
    "\n",
    "#combine all of the weighted totals\n",
    "#create a new column for these totals\n",
    "combined_states_df['Weighted Totals'] = (combined_states_df.loc[:, 'Health Care Total':'Natural Environment Total'].sum(axis=1))/100\n",
    "\n",
    "#find the average between cost rank and the weighted total\n",
    "combined_states_df['Overall Totals'] = combined_states_df[['Cost Rank', 'Weighted Totals']].mean(axis=1)\n",
    "combined_states_df.sort_values(by=['Overall Totals'])\n"
   ]
  },
  {
   "cell_type": "markdown",
   "id": "3a912153",
   "metadata": {},
   "source": [
    "# What are the top 5/ bottom 5 states to live in according to each factor?"
   ]
  },
  {
   "cell_type": "markdown",
   "id": "33dc3737",
   "metadata": {},
   "source": [
    "### Health Care"
   ]
  },
  {
   "cell_type": "code",
   "execution_count": null,
   "id": "3669103c",
   "metadata": {},
   "outputs": [],
   "source": [
    "#pull just the state name and the health care weighted total\n",
    "health_care = combined_states_df[['State', 'Health Care Total']]\n",
    "health_care_rank = health_care.sort_values('Health Care Total')\n",
    "health_care_rank.head()"
   ]
  },
  {
   "cell_type": "code",
   "execution_count": null,
   "id": "d58d0f13",
   "metadata": {},
   "outputs": [],
   "source": [
    "#plot the top states in healthcare using a bar graph\n",
    "states = [\"Hawaii\", \"Massachusetts\", \"Connecticut\", \"Washington\", \"Rhode Island\"]\n",
    "health_total = [18.0, 36.0, 54.0, 72.0, 90.0]\n",
    "x_axis = np.arange(len(health_total))\n",
    "plt.bar(x_axis, health_total, color=\"b\", align=\"center\")\n",
    "plt.title(\"States With the Best Health Care\")\n",
    "plt.xlabel(\"States\")\n",
    "plt.ylabel(\"Health Care Scores\")\n",
    "tick_locations = [value for value in x_axis]\n",
    "plt.xticks(tick_locations, states)\n",
    "\n",
    "plt.show"
   ]
  },
  {
   "cell_type": "code",
   "execution_count": null,
   "id": "d5087eec",
   "metadata": {},
   "outputs": [],
   "source": [
    "health_care_rank.tail()"
   ]
  },
  {
   "cell_type": "markdown",
   "id": "517d9280",
   "metadata": {},
   "source": [
    "### Education"
   ]
  },
  {
   "cell_type": "code",
   "execution_count": null,
   "id": "9fc79572",
   "metadata": {},
   "outputs": [],
   "source": [
    "#pull just the state name and the education weighted total\n",
    "education = combined_states_df[['State', 'Education Total']]\n",
    "education_rank = education.sort_values('Education Total')\n",
    "education_rank.head()"
   ]
  },
  {
   "cell_type": "code",
   "execution_count": null,
   "id": "49a2d85c",
   "metadata": {},
   "outputs": [],
   "source": [
    "education_rank.tail()"
   ]
  },
  {
   "cell_type": "code",
   "execution_count": null,
   "id": "9143bc7b",
   "metadata": {},
   "outputs": [],
   "source": [
    "#plot the findings for education using a line graph\n",
    "states = [\"Massachusetts\", \"New Jersey\", \"Florida\", \"Washington\", \"New Hampshire\"]\n",
    "education_total = [18.0, 36.0, 54.0, 72.0, 90.0]\n",
    "x_axis = np.arange(len(education_total))\n",
    "plt.bar(x_axis, education_total, color=\"b\", align=\"center\")\n",
    "plt.title(\"States With the Best Education\")\n",
    "plt.xlabel(\"States\")\n",
    "plt.ylabel(\"Education Scores\")\n",
    "tick_locations = [value for value in x_axis]\n",
    "plt.xticks(tick_locations, states)\n",
    "\n",
    "plt.show"
   ]
  },
  {
   "cell_type": "markdown",
   "id": "cd455900",
   "metadata": {},
   "source": [
    "### Economy"
   ]
  },
  {
   "cell_type": "code",
   "execution_count": null,
   "id": "07c090e6",
   "metadata": {},
   "outputs": [],
   "source": [
    "#pull just the state name and the economy weighted total\n",
    "economy = combined_states_df[['State', 'Economy Total']]\n",
    "economy_rank = economy.sort_values('Economy Total')\n",
    "economy_rank.head()"
   ]
  },
  {
   "cell_type": "code",
   "execution_count": null,
   "id": "e7d4d683",
   "metadata": {},
   "outputs": [],
   "source": [
    "economy_rank.tail()"
   ]
  },
  {
   "cell_type": "markdown",
   "id": "04646cf7",
   "metadata": {},
   "source": [
    "### Opportunity"
   ]
  },
  {
   "cell_type": "code",
   "execution_count": null,
   "id": "50ba0b6d",
   "metadata": {},
   "outputs": [],
   "source": [
    "#pull just the state name and the opportunity weighted total\n",
    "opportunity = combined_states_df[['State', 'Opportunity Total']]\n",
    "opportunity_rank = opportunity.sort_values('Opportunity Total')\n",
    "opportunity_rank.head()"
   ]
  },
  {
   "cell_type": "code",
   "execution_count": null,
   "id": "e91a6629",
   "metadata": {},
   "outputs": [],
   "source": [
    "opportunity_rank.tail()"
   ]
  },
  {
   "cell_type": "markdown",
   "id": "7e525189",
   "metadata": {},
   "source": [
    "### Fiscal Stability"
   ]
  },
  {
   "cell_type": "code",
   "execution_count": null,
   "id": "3a8a71ce",
   "metadata": {},
   "outputs": [],
   "source": [
    "#pull just the state name and the fiscal stability weighted total\n",
    "fiscal_stability = combined_states_df[['State', 'Fiscal Stability Total']]\n",
    "fiscal_stability_rank = fiscal_stability.sort_values('Fiscal Stability Total')\n",
    "fiscal_stability_rank.head()"
   ]
  },
  {
   "cell_type": "code",
   "execution_count": null,
   "id": "c7eda747",
   "metadata": {},
   "outputs": [],
   "source": [
    "fiscal_stability_rank.tail()"
   ]
  },
  {
   "cell_type": "markdown",
   "id": "a5c660b3",
   "metadata": {},
   "source": [
    "### Crime & Corrections"
   ]
  },
  {
   "cell_type": "code",
   "execution_count": null,
   "id": "6fab0050",
   "metadata": {},
   "outputs": [],
   "source": [
    "#pull just the state name and the crimes weighted total\n",
    "crime_corrections = combined_states_df[['State', 'Crime Total']]\n",
    "crime_corrections_rank = crime_corrections.sort_values('Crime Total')\n",
    "crime_corrections_rank.head()"
   ]
  },
  {
   "cell_type": "code",
   "execution_count": null,
   "id": "ea414cb1",
   "metadata": {},
   "outputs": [],
   "source": [
    "crime_corrections_rank.tail()"
   ]
  },
  {
   "cell_type": "markdown",
   "id": "2a48755a",
   "metadata": {},
   "source": [
    "### Infrastructure"
   ]
  },
  {
   "cell_type": "code",
   "execution_count": null,
   "id": "928b9262",
   "metadata": {},
   "outputs": [],
   "source": [
    "#pull just the state name and the infrastructure weighted total\n",
    "infrastructure = combined_states_df[['State', 'Infrastructure Total']]\n",
    "infrastructure_rank = infrastructure.sort_values('Infrastructure Total')\n",
    "infrastructure_rank.head()"
   ]
  },
  {
   "cell_type": "code",
   "execution_count": null,
   "id": "61675151",
   "metadata": {},
   "outputs": [],
   "source": [
    "infrastructure_rank.tail()"
   ]
  },
  {
   "cell_type": "markdown",
   "id": "254affac",
   "metadata": {},
   "source": [
    "### Natural Environments"
   ]
  },
  {
   "cell_type": "code",
   "execution_count": null,
   "id": "67e09109",
   "metadata": {},
   "outputs": [],
   "source": [
    "#pull just the state name and the natural environments weighted total\n",
    "natural_environment = combined_states_df[['State', 'Natural Environment Total']]\n",
    "natural_environment_rank = natural_environment.sort_values('Natural Environment Total')\n",
    "natural_environment_rank.head()"
   ]
  },
  {
   "cell_type": "code",
   "execution_count": null,
   "id": "4f8ec512",
   "metadata": {},
   "outputs": [],
   "source": [
    "natural_environment_rank.tail()"
   ]
  },
  {
   "cell_type": "markdown",
   "id": "707f85ab",
   "metadata": {},
   "source": [
    "### Cost of Living"
   ]
  },
  {
   "cell_type": "code",
   "execution_count": null,
   "id": "e52e8588",
   "metadata": {},
   "outputs": [],
   "source": [
    "cost_of_living = combined_states_df[['State', 'Cost Rank']]\n",
    "cost_rank = cost_of_living.sort_values('Cost Rank')\n",
    "cost_rank.head()"
   ]
  },
  {
   "cell_type": "code",
   "execution_count": null,
   "id": "ee2a945a",
   "metadata": {},
   "outputs": [],
   "source": [
    "cost_rank.tail()"
   ]
  },
  {
   "cell_type": "markdown",
   "id": "757c2a3d",
   "metadata": {},
   "source": [
    "# What are the top 5 states to live in overall?"
   ]
  },
  {
   "cell_type": "code",
   "execution_count": null,
   "id": "1f0d6a6d",
   "metadata": {},
   "outputs": [],
   "source": [
    "#pull states and overall totals\n",
    "overall_rank = combined_states_df[['State', 'Overall Totals']]\n",
    "overall_states_rank = overall_rank.sort_values('Overall Totals')\n",
    "overall_states_rank"
   ]
  },
  {
   "cell_type": "code",
   "execution_count": null,
   "id": "a7cd62e8",
   "metadata": {},
   "outputs": [],
   "source": [
    "overall_states_rank.tail()"
   ]
  },
  {
   "cell_type": "markdown",
   "id": "54364357",
   "metadata": {},
   "source": [
    "# What are the top 5 states to live in according to the factors I find most important? (Health Care, Education, Crime, and Natural Environment)"
   ]
  },
  {
   "cell_type": "code",
   "execution_count": null,
   "id": "bc5dcdcb",
   "metadata": {},
   "outputs": [],
   "source": [
    "combined_states_df.columns"
   ]
  },
  {
   "cell_type": "code",
   "execution_count": null,
   "id": "78bef44b",
   "metadata": {},
   "outputs": [],
   "source": [
    "#create a dataframe with only these factors\n",
    "combined_states_df.columns\n",
    "personal_rank = combined_states_df.drop(['Health Care', 'Education', 'Economy', 'Opportunity',\n",
    "       'Fiscal Stability', 'Crime & Corrections', 'Natural Environment',\n",
    "       'Grocery Cost', 'Housing Cost', 'Transportation Cost', 'Economy Total',\n",
    "       'Opportunity Total', 'Fiscal Stability Total', 'Weighted Totals', 'Overall Totals'], axis=1)\n",
    "personal_rank"
   ]
  },
  {
   "cell_type": "code",
   "execution_count": null,
   "id": "fa7c556b",
   "metadata": {},
   "outputs": [],
   "source": [
    "#combine weighted totals\n",
    "personal_rank['Personal Weighted Totals'] = (personal_rank.loc[:, 'Health Care Total':'Crime Total'].sum(axis=1))/100\n",
    "personal_rank"
   ]
  },
  {
   "cell_type": "code",
   "execution_count": null,
   "id": "59eb195e",
   "metadata": {},
   "outputs": [],
   "source": [
    "#find the average between cost rank and the personal weighted total\n",
    "personal_rank['Personal Overall Totals'] = personal_rank[['Cost Rank', 'Personal Weighted Totals']].mean(axis=1)\n",
    "personal_rank.sort_values(by=['Personal Overall Totals'])\n",
    "personal_rank"
   ]
  },
  {
   "cell_type": "code",
   "execution_count": null,
   "id": "be482fd8",
   "metadata": {},
   "outputs": [],
   "source": [
    "#pull just the states and personal overall total\n",
    "personal_overall = personal_rank[['State', 'Personal Overall Totals']]\n",
    "personal_overall_rank = personal_overall.sort_values('Personal Overall Totals')\n",
    "personal_overall_rank.head()"
   ]
  }
 ],
 "metadata": {
  "kernelspec": {
   "display_name": "Python 3 (ipykernel)",
   "language": "python",
   "name": "python3"
  },
  "language_info": {
   "codemirror_mode": {
    "name": "ipython",
    "version": 3
   },
   "file_extension": ".py",
   "mimetype": "text/x-python",
   "name": "python",
   "nbconvert_exporter": "python",
   "pygments_lexer": "ipython3",
   "version": "3.10.10"
  }
 },
 "nbformat": 4,
 "nbformat_minor": 5
}
